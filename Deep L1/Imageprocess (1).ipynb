{
 "cells": [
  {
   "cell_type": "code",
   "execution_count": 1,
   "metadata": {},
   "outputs": [],
   "source": [
    "import cv2\n",
    "\n",
    "image = cv2.imread(r'C:\\Users\\SIYO SMITH\\Desktop\\DL\\6a2ea1039b9100aad4d47dacca5a8654.webp')\n",
    "\n",
    "cv2.imshow('Image',image)\n",
    "\n",
    "cv2.waitKey(0)\n",
    "cv2.destroyAllWindows()"
   ]
  },
  {
   "cell_type": "code",
   "execution_count": null,
   "metadata": {},
   "outputs": [],
   "source": [
    "# pip install opencv-python"
   ]
  },
  {
   "cell_type": "markdown",
   "metadata": {},
   "source": [
    "Resizing:\n",
    "Resizing an image to a specific resolution can make it easier to work with and standardize the input size for machine learning models."
   ]
  },
  {
   "cell_type": "code",
   "execution_count": 2,
   "metadata": {},
   "outputs": [],
   "source": [
    "import cv2\n",
    "\n",
    "# Read an image\n",
    "image = cv2.imread(r'C:\\Users\\SIYO SMITH\\Desktop\\DL\\6a2ea1039b9100aad4d47dacca5a8654.webp')\n",
    "\n",
    "# Resize the image to a specific width and height\n",
    "resized_image = cv2.resize(image, (200, 200))\n",
    "\n",
    "# Display the resized image\n",
    "cv2.imshow('Resized Image', resized_image)\n",
    "cv2.waitKey(0)\n",
    "cv2.destroyAllWindows()"
   ]
  },
  {
   "cell_type": "markdown",
   "metadata": {},
   "source": [
    "Normalization: \n",
    "Normalizing pixel values to a standard range (e.g., 0 to 1) can improve the performance of machine learning models by making the input data more consistent."
   ]
  },
  {
   "cell_type": "code",
   "execution_count": 3,
   "metadata": {},
   "outputs": [],
   "source": [
    "import cv2\n",
    "import numpy as np\n",
    "\n",
    "# Read an image\n",
    "image = cv2.imread(r'C:\\Users\\SIYO SMITH\\Desktop\\DL\\6a2ea1039b9100aad4d47dacca5a8654.webp')\n",
    "\n",
    "# Normalize pixel values to range [0, 1]\n",
    "normalized_image = image.astype(np.float32) / 255.0\n",
    "\n",
    "# Display the normalized image\n",
    "cv2.imshow('Normalized Image', normalized_image)\n",
    "cv2.waitKey(0)\n",
    "cv2.destroyAllWindows()\n"
   ]
  },
  {
   "cell_type": "markdown",
   "metadata": {},
   "source": [
    "Grayscale Conversion:\n",
    " Converting a color image to grayscale can simplify the image data while retaining important features for analysis."
   ]
  },
  {
   "cell_type": "code",
   "execution_count": 4,
   "metadata": {},
   "outputs": [],
   "source": [
    "import cv2\n",
    "\n",
    "# Read a color image\n",
    "image = cv2.imread(r'C:\\Users\\SIYO SMITH\\Desktop\\DL\\6a2ea1039b9100aad4d47dacca5a8654.webp')\n",
    "\n",
    "# Convert the image to grayscale\n",
    "gray_image = cv2.cvtColor(image, cv2.COLOR_BGR2GRAY)\n",
    "\n",
    "# Display the grayscale image\n",
    "cv2.imshow('Grayscale Image', gray_image)\n",
    "cv2.waitKey(0)\n",
    "cv2.destroyAllWindows()\n"
   ]
  },
  {
   "cell_type": "markdown",
   "metadata": {},
   "source": [
    "Noise Reduction: \n",
    "Techniques such as Gaussian blur or median filtering can be used to reduce noise in an image, which can improve the accuracy of subsequent processing steps."
   ]
  },
  {
   "cell_type": "code",
   "execution_count": 6,
   "metadata": {},
   "outputs": [],
   "source": [
    "import cv2\n",
    "\n",
    "# Read a noisy image\n",
    "image = cv2.imread(r'C:\\Users\\SIYO SMITH\\Desktop\\DL\\6a2ea1039b9100aad4d47dacca5a8654.webp')\n",
    "\n",
    "\n",
    "\n",
    "# Apply Gaussian blur for noise reduction\n",
    "blurred_image = cv2.GaussianBlur(image, (5, 5), 0)\n",
    "\n",
    "# Display the blurred image\n",
    "cv2.imshow('Blurred Image', blurred_image)\n",
    "cv2.waitKey(0)\n",
    "cv2.destroyAllWindows()\n"
   ]
  },
  {
   "cell_type": "markdown",
   "metadata": {},
   "source": [
    "Contrast Enhancement: Enhancing the contrast of an image can improve its visual quality and make it easier to detect features."
   ]
  },
  {
   "cell_type": "code",
   "execution_count": 7,
   "metadata": {},
   "outputs": [],
   "source": [
    "import cv2\n",
    "\n",
    "# Read an image\n",
    "image = cv2.imread(r'C:\\Users\\SIYO SMITH\\Desktop\\DL\\6a2ea1039b9100aad4d47dacca5a8654.webp')\n",
    "\n",
    "# Convert the image to grayscale\n",
    "gray_image = cv2.cvtColor(image, cv2.COLOR_BGR2GRAY)\n",
    "\n",
    "# Apply contrast enhancement using histogram equalization\n",
    "equalized_image = cv2.equalizeHist(gray_image)\n",
    "\n",
    "# Display the equalized image\n",
    "cv2.imshow('Equalized Image', equalized_image)\n",
    "cv2.waitKey(0)\n",
    "cv2.destroyAllWindows()\n"
   ]
  },
  {
   "cell_type": "code",
   "execution_count": null,
   "metadata": {},
   "outputs": [],
   "source": []
  },
  {
   "cell_type": "markdown",
   "metadata": {},
   "source": [
    "Edge Detection: Techniques like the Sobel operator or Canny edge detection can be used to detect edges in an image, which can be useful for feature extraction.\n"
   ]
  },
  {
   "cell_type": "code",
   "execution_count": 8,
   "metadata": {},
   "outputs": [],
   "source": [
    "import cv2\n",
    "\n",
    "# Read an image\n",
    "image = cv2.imread(r'C:\\Users\\SIYO SMITH\\Desktop\\DL\\6a2ea1039b9100aad4d47dacca5a8654.webp')\n",
    "\n",
    "# Convert the image to grayscale\n",
    "gray_image = cv2.cvtColor(image, cv2.COLOR_BGR2GRAY)\n",
    "\n",
    "# Apply Canny edge detection\n",
    "edges = cv2.Canny(gray_image, 100, 200)\n",
    "\n",
    "# Display the edges\n",
    "cv2.imshow('Edges', edges)\n",
    "cv2.waitKey(0)\n",
    "cv2.destroyAllWindows()\n"
   ]
  },
  {
   "cell_type": "markdown",
   "metadata": {},
   "source": [
    "Harris Corner Detection \n",
    "\n",
    "\n",
    "Harris Corner Detection is a corner detection algorithm that identifies key points in an image that can be used for further analysis, such as image matching or object tracking. Here's an example program using OpenCV to perform Harris Corner Detection:"
   ]
  },
  {
   "cell_type": "code",
   "execution_count": 11,
   "metadata": {},
   "outputs": [],
   "source": [
    "import cv2\n",
    "import numpy as np\n",
    "\n",
    "# Read an image\n",
    "img = cv2.imread(r'C:\\Users\\SIYO SMITH\\Desktop\\DL\\6a2ea1039b9100aad4d47dacca5a8654.webp')\n",
    "gray_img = cv2.cvtColor(img, cv2.COLOR_BGR2GRAY)\n",
    "\n",
    "# Detect corners\n",
    "dst = cv2.cornerHarris(gray_img, 2, 3, 0.04)\n",
    "dst = cv2.dilate(dst, None)\n",
    "\n",
    "\n",
    "# Threshold for an optimal value\n",
    "#sets the color of pixels that have a corner response value greater than 1% of the maximum corner response value in the image to red \n",
    "img[dst > 0.01 * dst.max()] = [0, 0, 255]\n",
    "\n",
    "# Display the result\n",
    "cv2.imshow('Harris Corners', img)\n",
    "cv2.waitKey(0)\n",
    "cv2.destroyAllWindows()\n"
   ]
  },
  {
   "cell_type": "markdown",
   "metadata": {},
   "source": [
    "Histogram Equalization:\n",
    "\n",
    " Histogram equalization can improve the contrast of an image by redistributing pixel intensities."
   ]
  },
  {
   "cell_type": "code",
   "execution_count": 12,
   "metadata": {},
   "outputs": [],
   "source": [
    "import cv2\n",
    "\n",
    "# Read an image\n",
    "image = cv2.imread(r'C:\\Users\\SIYO SMITH\\Desktop\\DL\\6a2ea1039b9100aad4d47dacca5a8654.webp')\n",
    "\n",
    "# Convert the image to grayscale\n",
    "gray_image = cv2.cvtColor(image, cv2.COLOR_BGR2GRAY)\n",
    "\n",
    "# Apply histogram equalization\n",
    "equalized_image = cv2.equalizeHist(gray_image)\n",
    "\n",
    "# Display the equalized image\n",
    "cv2.imshow('Equalized Image', equalized_image)\n",
    "cv2.waitKey(0)\n",
    "cv2.destroyAllWindows()\n"
   ]
  },
  {
   "cell_type": "markdown",
   "metadata": {},
   "source": [
    "Rotation and Cropping: \n",
    "\n",
    "Rotating or cropping an image can correct its orientation or focus on a specific region of interest."
   ]
  },
  {
   "cell_type": "code",
   "execution_count": 26,
   "metadata": {},
   "outputs": [],
   "source": [
    "import cv2\n",
    "\n",
    "# Read an image\n",
    "image = cv2.imread(r'C:\\Users\\SIYO SMITH\\Desktop\\DL\\6a2ea1039b9100aad4d47dacca5a8654.webp')\n",
    "\n",
    "# Rotate the image by 90 degrees clockwise\n",
    "rows, cols, _ = image.shape\n",
    "rotation_matrix = cv2.getRotationMatrix2D((cols/2, rows/2), 90, 1)\n",
    "rotated_image = cv2.warpAffine(image, rotation_matrix, (cols, rows))\n",
    "\n",
    "# Crop a region of interest from the image\n",
    "cropped_image = image[100:300, 200:400]\n",
    "\n",
    "# Display the rotated and cropped images\n",
    "cv2.imshow('Rotated Image', rotated_image)\n",
    "cv2.imshow('Cropped Image', cropped_image)\n",
    "cv2.waitKey(0)\n",
    "cv2.destroyAllWindows()\n"
   ]
  },
  {
   "cell_type": "code",
   "execution_count": null,
   "metadata": {},
   "outputs": [],
   "source": []
  }
 ],
 "metadata": {
  "kernelspec": {
   "display_name": "Python 3",
   "language": "python",
   "name": "python3"
  },
  "language_info": {
   "codemirror_mode": {
    "name": "ipython",
    "version": 3
   },
   "file_extension": ".py",
   "mimetype": "text/x-python",
   "name": "python",
   "nbconvert_exporter": "python",
   "pygments_lexer": "ipython3",
   "version": "3.12.1"
  }
 },
 "nbformat": 4,
 "nbformat_minor": 2
}
